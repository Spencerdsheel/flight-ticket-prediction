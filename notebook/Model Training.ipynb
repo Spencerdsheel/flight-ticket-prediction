{
 "cells": [
  {
   "cell_type": "code",
   "execution_count": 1,
   "id": "73c89c1a",
   "metadata": {
    "papermill": {
     "duration": 1.199742,
     "end_time": "2022-10-13T15:54:40.762312",
     "exception": false,
     "start_time": "2022-10-13T15:54:39.562570",
     "status": "completed"
    },
    "tags": []
   },
   "outputs": [],
   "source": [
    "# Importing all the Required Libraries\n",
    "import pandas as pd\n",
    "import numpy as np\n",
    "import matplotlib.pyplot as plt\n",
    "import seaborn as sns\n",
    "import warnings\n",
    "warnings.filterwarnings('ignore')\n",
    "pd.set_option('display.max_columns',None)\n",
    "import os"
   ]
  },
  {
   "cell_type": "code",
   "execution_count": 2,
   "id": "b948188b",
   "metadata": {
    "papermill": {
     "duration": 0.800878,
     "end_time": "2022-10-13T15:54:41.573767",
     "exception": false,
     "start_time": "2022-10-13T15:54:40.772889",
     "status": "completed"
    },
    "tags": []
   },
   "outputs": [
    {
     "data": {
      "text/html": [
       "<div>\n",
       "<style scoped>\n",
       "    .dataframe tbody tr th:only-of-type {\n",
       "        vertical-align: middle;\n",
       "    }\n",
       "\n",
       "    .dataframe tbody tr th {\n",
       "        vertical-align: top;\n",
       "    }\n",
       "\n",
       "    .dataframe thead th {\n",
       "        text-align: right;\n",
       "    }\n",
       "</style>\n",
       "<table border=\"1\" class=\"dataframe\">\n",
       "  <thead>\n",
       "    <tr style=\"text-align: right;\">\n",
       "      <th></th>\n",
       "      <th>Unnamed: 0</th>\n",
       "      <th>airline</th>\n",
       "      <th>flight</th>\n",
       "      <th>source_city</th>\n",
       "      <th>departure_time</th>\n",
       "      <th>stops</th>\n",
       "      <th>arrival_time</th>\n",
       "      <th>destination_city</th>\n",
       "      <th>class</th>\n",
       "      <th>duration</th>\n",
       "      <th>days_left</th>\n",
       "      <th>price</th>\n",
       "    </tr>\n",
       "  </thead>\n",
       "  <tbody>\n",
       "    <tr>\n",
       "      <th>0</th>\n",
       "      <td>0</td>\n",
       "      <td>SpiceJet</td>\n",
       "      <td>SG-8709</td>\n",
       "      <td>Delhi</td>\n",
       "      <td>Evening</td>\n",
       "      <td>zero</td>\n",
       "      <td>Night</td>\n",
       "      <td>Mumbai</td>\n",
       "      <td>Economy</td>\n",
       "      <td>2.17</td>\n",
       "      <td>1</td>\n",
       "      <td>5953</td>\n",
       "    </tr>\n",
       "    <tr>\n",
       "      <th>1</th>\n",
       "      <td>1</td>\n",
       "      <td>SpiceJet</td>\n",
       "      <td>SG-8157</td>\n",
       "      <td>Delhi</td>\n",
       "      <td>Early_Morning</td>\n",
       "      <td>zero</td>\n",
       "      <td>Morning</td>\n",
       "      <td>Mumbai</td>\n",
       "      <td>Economy</td>\n",
       "      <td>2.33</td>\n",
       "      <td>1</td>\n",
       "      <td>5953</td>\n",
       "    </tr>\n",
       "    <tr>\n",
       "      <th>2</th>\n",
       "      <td>2</td>\n",
       "      <td>AirAsia</td>\n",
       "      <td>I5-764</td>\n",
       "      <td>Delhi</td>\n",
       "      <td>Early_Morning</td>\n",
       "      <td>zero</td>\n",
       "      <td>Early_Morning</td>\n",
       "      <td>Mumbai</td>\n",
       "      <td>Economy</td>\n",
       "      <td>2.17</td>\n",
       "      <td>1</td>\n",
       "      <td>5956</td>\n",
       "    </tr>\n",
       "    <tr>\n",
       "      <th>3</th>\n",
       "      <td>3</td>\n",
       "      <td>Vistara</td>\n",
       "      <td>UK-995</td>\n",
       "      <td>Delhi</td>\n",
       "      <td>Morning</td>\n",
       "      <td>zero</td>\n",
       "      <td>Afternoon</td>\n",
       "      <td>Mumbai</td>\n",
       "      <td>Economy</td>\n",
       "      <td>2.25</td>\n",
       "      <td>1</td>\n",
       "      <td>5955</td>\n",
       "    </tr>\n",
       "    <tr>\n",
       "      <th>4</th>\n",
       "      <td>4</td>\n",
       "      <td>Vistara</td>\n",
       "      <td>UK-963</td>\n",
       "      <td>Delhi</td>\n",
       "      <td>Morning</td>\n",
       "      <td>zero</td>\n",
       "      <td>Morning</td>\n",
       "      <td>Mumbai</td>\n",
       "      <td>Economy</td>\n",
       "      <td>2.33</td>\n",
       "      <td>1</td>\n",
       "      <td>5955</td>\n",
       "    </tr>\n",
       "  </tbody>\n",
       "</table>\n",
       "</div>"
      ],
      "text/plain": [
       "   Unnamed: 0   airline   flight source_city departure_time stops  \\\n",
       "0           0  SpiceJet  SG-8709       Delhi        Evening  zero   \n",
       "1           1  SpiceJet  SG-8157       Delhi  Early_Morning  zero   \n",
       "2           2   AirAsia   I5-764       Delhi  Early_Morning  zero   \n",
       "3           3   Vistara   UK-995       Delhi        Morning  zero   \n",
       "4           4   Vistara   UK-963       Delhi        Morning  zero   \n",
       "\n",
       "    arrival_time destination_city    class  duration  days_left  price  \n",
       "0          Night           Mumbai  Economy      2.17          1   5953  \n",
       "1        Morning           Mumbai  Economy      2.33          1   5953  \n",
       "2  Early_Morning           Mumbai  Economy      2.17          1   5956  \n",
       "3      Afternoon           Mumbai  Economy      2.25          1   5955  \n",
       "4        Morning           Mumbai  Economy      2.33          1   5955  "
      ]
     },
     "execution_count": 2,
     "metadata": {},
     "output_type": "execute_result"
    }
   ],
   "source": [
    "# Lets see what is in the Data\n",
    "df=pd.read_csv('data/Clean_Dataset.csv')\n",
    "df.head()"
   ]
  },
  {
   "cell_type": "code",
   "execution_count": 3,
   "id": "c489d246",
   "metadata": {
    "papermill": {
     "duration": 0.057329,
     "end_time": "2022-10-13T15:54:41.640587",
     "exception": false,
     "start_time": "2022-10-13T15:54:41.583258",
     "status": "completed"
    },
    "tags": []
   },
   "outputs": [],
   "source": [
    "# Droping the useless column 'Unnamed: 0'\n",
    "df=df.drop('Unnamed: 0',axis=1)\n",
    "df=df.drop('flight',axis=1)"
   ]
  },
  {
   "cell_type": "code",
   "execution_count": 4,
   "id": "3658ebf3-9dc3-489a-bfe4-4e6a7f4d7c88",
   "metadata": {},
   "outputs": [
    {
     "name": "stdout",
     "output_type": "stream",
     "text": [
      "airline:['SpiceJet' 'AirAsia' 'Vistara' 'GO_FIRST' 'Indigo' 'Air_India']\n",
      "source_city:['Delhi' 'Mumbai' 'Bangalore' 'Kolkata' 'Hyderabad' 'Chennai']\n",
      "departure_time:['Evening' 'Early_Morning' 'Morning' 'Afternoon' 'Night' 'Late_Night']\n",
      "stops:['zero' 'one' 'two_or_more']\n",
      "arrival_time:['Night' 'Morning' 'Early_Morning' 'Afternoon' 'Evening' 'Late_Night']\n",
      "destination_city:['Mumbai' 'Bangalore' 'Kolkata' 'Hyderabad' 'Chennai' 'Delhi']\n",
      "class:['Economy' 'Business']\n"
     ]
    }
   ],
   "source": [
    "obcol=[]\n",
    "for col in df.columns:\n",
    "    if df[col].dtype=='object':\n",
    "        print(f\"{col}:{df[col].unique()}\")\n",
    "        obcol.append(col)\n"
   ]
  },
  {
   "cell_type": "code",
   "execution_count": 5,
   "id": "46ac0ea8",
   "metadata": {
    "papermill": {
     "duration": 0.136481,
     "end_time": "2022-10-13T15:54:41.786562",
     "exception": false,
     "start_time": "2022-10-13T15:54:41.650081",
     "status": "completed"
    },
    "tags": []
   },
   "outputs": [
    {
     "name": "stdout",
     "output_type": "stream",
     "text": [
      "<class 'pandas.core.frame.DataFrame'>\n",
      "RangeIndex: 300153 entries, 0 to 300152\n",
      "Data columns (total 10 columns):\n",
      " #   Column            Non-Null Count   Dtype  \n",
      "---  ------            --------------   -----  \n",
      " 0   airline           300153 non-null  object \n",
      " 1   source_city       300153 non-null  object \n",
      " 2   departure_time    300153 non-null  object \n",
      " 3   stops             300153 non-null  object \n",
      " 4   arrival_time      300153 non-null  object \n",
      " 5   destination_city  300153 non-null  object \n",
      " 6   class             300153 non-null  object \n",
      " 7   duration          300153 non-null  float64\n",
      " 8   days_left         300153 non-null  int64  \n",
      " 9   price             300153 non-null  int64  \n",
      "dtypes: float64(1), int64(2), object(7)\n",
      "memory usage: 22.9+ MB\n"
     ]
    }
   ],
   "source": [
    "# A Quick Information about the Data\n",
    "df.info()"
   ]
  },
  {
   "cell_type": "code",
   "execution_count": 6,
   "id": "b2bd3008",
   "metadata": {
    "papermill": {
     "duration": 0.062127,
     "end_time": "2022-10-13T15:54:41.858257",
     "exception": false,
     "start_time": "2022-10-13T15:54:41.796130",
     "status": "completed"
    },
    "tags": []
   },
   "outputs": [
    {
     "data": {
      "text/html": [
       "<div>\n",
       "<style scoped>\n",
       "    .dataframe tbody tr th:only-of-type {\n",
       "        vertical-align: middle;\n",
       "    }\n",
       "\n",
       "    .dataframe tbody tr th {\n",
       "        vertical-align: top;\n",
       "    }\n",
       "\n",
       "    .dataframe thead th {\n",
       "        text-align: right;\n",
       "    }\n",
       "</style>\n",
       "<table border=\"1\" class=\"dataframe\">\n",
       "  <thead>\n",
       "    <tr style=\"text-align: right;\">\n",
       "      <th></th>\n",
       "      <th>duration</th>\n",
       "      <th>days_left</th>\n",
       "      <th>price</th>\n",
       "    </tr>\n",
       "  </thead>\n",
       "  <tbody>\n",
       "    <tr>\n",
       "      <th>count</th>\n",
       "      <td>300153.000000</td>\n",
       "      <td>300153.000000</td>\n",
       "      <td>300153.000000</td>\n",
       "    </tr>\n",
       "    <tr>\n",
       "      <th>mean</th>\n",
       "      <td>12.221021</td>\n",
       "      <td>26.004751</td>\n",
       "      <td>20889.660523</td>\n",
       "    </tr>\n",
       "    <tr>\n",
       "      <th>std</th>\n",
       "      <td>7.191997</td>\n",
       "      <td>13.561004</td>\n",
       "      <td>22697.767366</td>\n",
       "    </tr>\n",
       "    <tr>\n",
       "      <th>min</th>\n",
       "      <td>0.830000</td>\n",
       "      <td>1.000000</td>\n",
       "      <td>1105.000000</td>\n",
       "    </tr>\n",
       "    <tr>\n",
       "      <th>25%</th>\n",
       "      <td>6.830000</td>\n",
       "      <td>15.000000</td>\n",
       "      <td>4783.000000</td>\n",
       "    </tr>\n",
       "    <tr>\n",
       "      <th>50%</th>\n",
       "      <td>11.250000</td>\n",
       "      <td>26.000000</td>\n",
       "      <td>7425.000000</td>\n",
       "    </tr>\n",
       "    <tr>\n",
       "      <th>75%</th>\n",
       "      <td>16.170000</td>\n",
       "      <td>38.000000</td>\n",
       "      <td>42521.000000</td>\n",
       "    </tr>\n",
       "    <tr>\n",
       "      <th>max</th>\n",
       "      <td>49.830000</td>\n",
       "      <td>49.000000</td>\n",
       "      <td>123071.000000</td>\n",
       "    </tr>\n",
       "  </tbody>\n",
       "</table>\n",
       "</div>"
      ],
      "text/plain": [
       "            duration      days_left          price\n",
       "count  300153.000000  300153.000000  300153.000000\n",
       "mean       12.221021      26.004751   20889.660523\n",
       "std         7.191997      13.561004   22697.767366\n",
       "min         0.830000       1.000000    1105.000000\n",
       "25%         6.830000      15.000000    4783.000000\n",
       "50%        11.250000      26.000000    7425.000000\n",
       "75%        16.170000      38.000000   42521.000000\n",
       "max        49.830000      49.000000  123071.000000"
      ]
     },
     "execution_count": 6,
     "metadata": {},
     "output_type": "execute_result"
    }
   ],
   "source": [
    "# Stastical Description of Data\n",
    "df.describe()"
   ]
  },
  {
   "cell_type": "code",
   "execution_count": 7,
   "id": "444ca516",
   "metadata": {
    "papermill": {
     "duration": 0.041659,
     "end_time": "2022-10-13T15:54:41.910145",
     "exception": false,
     "start_time": "2022-10-13T15:54:41.868486",
     "status": "completed"
    },
    "tags": []
   },
   "outputs": [
    {
     "data": {
      "text/html": [
       "<div>\n",
       "<style scoped>\n",
       "    .dataframe tbody tr th:only-of-type {\n",
       "        vertical-align: middle;\n",
       "    }\n",
       "\n",
       "    .dataframe tbody tr th {\n",
       "        vertical-align: top;\n",
       "    }\n",
       "\n",
       "    .dataframe thead th {\n",
       "        text-align: right;\n",
       "    }\n",
       "</style>\n",
       "<table border=\"1\" class=\"dataframe\">\n",
       "  <thead>\n",
       "    <tr style=\"text-align: right;\">\n",
       "      <th></th>\n",
       "      <th>duration</th>\n",
       "      <th>days_left</th>\n",
       "      <th>price</th>\n",
       "    </tr>\n",
       "  </thead>\n",
       "  <tbody>\n",
       "    <tr>\n",
       "      <th>duration</th>\n",
       "      <td>1.000000</td>\n",
       "      <td>-0.039157</td>\n",
       "      <td>0.204222</td>\n",
       "    </tr>\n",
       "    <tr>\n",
       "      <th>days_left</th>\n",
       "      <td>-0.039157</td>\n",
       "      <td>1.000000</td>\n",
       "      <td>-0.091949</td>\n",
       "    </tr>\n",
       "    <tr>\n",
       "      <th>price</th>\n",
       "      <td>0.204222</td>\n",
       "      <td>-0.091949</td>\n",
       "      <td>1.000000</td>\n",
       "    </tr>\n",
       "  </tbody>\n",
       "</table>\n",
       "</div>"
      ],
      "text/plain": [
       "           duration  days_left     price\n",
       "duration   1.000000  -0.039157  0.204222\n",
       "days_left -0.039157   1.000000 -0.091949\n",
       "price      0.204222  -0.091949  1.000000"
      ]
     },
     "execution_count": 7,
     "metadata": {},
     "output_type": "execute_result"
    }
   ],
   "source": [
    "df.corr(numeric_only=True).T"
   ]
  },
  {
   "cell_type": "code",
   "execution_count": 8,
   "id": "b018204b",
   "metadata": {
    "papermill": {
     "duration": 0.020591,
     "end_time": "2022-10-13T15:54:41.940716",
     "exception": false,
     "start_time": "2022-10-13T15:54:41.920125",
     "status": "completed"
    },
    "tags": []
   },
   "outputs": [
    {
     "data": {
      "text/plain": [
       "(300153, 10)"
      ]
     },
     "execution_count": 8,
     "metadata": {},
     "output_type": "execute_result"
    }
   ],
   "source": [
    "# Size of the data \n",
    "df.shape"
   ]
  },
  {
   "cell_type": "markdown",
   "id": "1111644b-4b66-4deb-8c65-1a5f3e15ff5f",
   "metadata": {},
   "source": [
    "# Model Building"
   ]
  },
  {
   "cell_type": "code",
   "execution_count": 9,
   "id": "f9ffd595",
   "metadata": {
    "papermill": {
     "duration": 0.043229,
     "end_time": "2022-10-13T15:55:21.576045",
     "exception": false,
     "start_time": "2022-10-13T15:55:21.532816",
     "status": "completed"
    },
    "tags": []
   },
   "outputs": [],
   "source": [
    "# Creating a Back up File\n",
    "df_bk=df.copy()"
   ]
  },
  {
   "cell_type": "code",
   "execution_count": 10,
   "id": "7115863a",
   "metadata": {
    "papermill": {
     "duration": 0.896708,
     "end_time": "2022-10-13T15:55:22.493871",
     "exception": false,
     "start_time": "2022-10-13T15:55:21.597163",
     "status": "completed"
    },
    "tags": []
   },
   "outputs": [
    {
     "data": {
      "text/plain": [
       "\"from sklearn.preprocessing import LabelEncoder\\nle=LabelEncoder()\\nfor col in df.columns:\\n    if df[col].dtype=='object':\\n        df[col]=le.fit_transform(df[col])\""
      ]
     },
     "execution_count": 10,
     "metadata": {},
     "output_type": "execute_result"
    }
   ],
   "source": [
    "# Coverting the labels into a numeric form using Label Encoder\n",
    "\"\"\"from sklearn.preprocessing import LabelEncoder\n",
    "le=LabelEncoder()\n",
    "for col in df.columns:\n",
    "    if df[col].dtype=='object':\n",
    "        df[col]=le.fit_transform(df[col])\"\"\""
   ]
  },
  {
   "cell_type": "code",
   "execution_count": 11,
   "id": "e80ffd3e-ee6c-4047-a0fd-8944360e443d",
   "metadata": {},
   "outputs": [],
   "source": [
    "def encoding(df):\n",
    "    mapping_airline = {'SpiceJet':0, 'AirAsia':1, 'Vistara':2, 'GO_FIRST':3, 'Indigo':4, 'Air_India':5}\n",
    "    mapping_city = {'Delhi':0, 'Mumbai':1, 'Bangalore':2, 'Kolkata':3, 'Hyderabad':4, 'Chennai':5}\n",
    "    mapping_time = {'Evening':0, 'Early_Morning':1, 'Morning':2, 'Afternoon':3, 'Night':4, 'Late_Night':5}\n",
    "    mapping_stops = {'zero':0, 'one':1, 'two_or_more':2}\n",
    "    mapping_class = {'Economy':0, 'Business':1}\n",
    "\n",
    "    df['airline'] = df['airline'].map(mapping_airline)\n",
    "    df['source_city'] = df['source_city'].map(mapping_city)\n",
    "    df['destination_city'] = df['destination_city'].map(mapping_city)\n",
    "    df['departure_time'] = df['departure_time'].map(mapping_time)\n",
    "    df['arrival_time'] = df['arrival_time'].map(mapping_time)\n",
    "    df['stops'] = df['stops'].map(mapping_stops)\n",
    "    df['class'] = df['class'].map(mapping_class)\n",
    "\n",
    "encoding(df)"
   ]
  },
  {
   "cell_type": "code",
   "execution_count": 12,
   "id": "36f15f11",
   "metadata": {
    "papermill": {
     "duration": 0.070962,
     "end_time": "2022-10-13T15:55:22.586280",
     "exception": false,
     "start_time": "2022-10-13T15:55:22.515318",
     "status": "completed"
    },
    "tags": []
   },
   "outputs": [],
   "source": [
    "# storing the Dependent Variables in X and Independent Variable in Y\n",
    "x=df.drop(['price'],axis=1)\n",
    "y=df['price']"
   ]
  },
  {
   "cell_type": "code",
   "execution_count": 13,
   "id": "a5615a3b",
   "metadata": {
    "papermill": {
     "duration": 0.149402,
     "end_time": "2022-10-13T15:55:22.756734",
     "exception": false,
     "start_time": "2022-10-13T15:55:22.607332",
     "status": "completed"
    },
    "tags": []
   },
   "outputs": [
    {
     "data": {
      "text/plain": [
       "((210107, 9), (90046, 9), (210107,), (90046,))"
      ]
     },
     "execution_count": 13,
     "metadata": {},
     "output_type": "execute_result"
    }
   ],
   "source": [
    "# Splitting the Data into Training set and Testing Set\n",
    "from sklearn.model_selection import train_test_split\n",
    "x_train,x_test,y_train,y_test=train_test_split(x,y,test_size=0.30,random_state=42)\n",
    "x_train.shape,x_test.shape,y_train.shape,y_test.shape"
   ]
  },
  {
   "cell_type": "code",
   "execution_count": 14,
   "id": "62862c39",
   "metadata": {
    "papermill": {
     "duration": 0.077691,
     "end_time": "2022-10-13T15:55:22.855220",
     "exception": false,
     "start_time": "2022-10-13T15:55:22.777529",
     "status": "completed"
    },
    "tags": []
   },
   "outputs": [],
   "source": [
    "# Scaling the values to convert the int values to Machine Languages\n",
    "from sklearn.preprocessing import MinMaxScaler\n",
    "mmscaler=MinMaxScaler(feature_range=(0,1))\n",
    "x_train=mmscaler.fit_transform(x_train)\n",
    "x_test=mmscaler.fit_transform(x_test)\n",
    "x_train=pd.DataFrame(x_train)\n",
    "x_test=pd.DataFrame(x_test)  "
   ]
  },
  {
   "cell_type": "code",
   "execution_count": 15,
   "id": "2fb688b9",
   "metadata": {
    "papermill": {
     "duration": 167.648735,
     "end_time": "2022-10-13T15:58:10.582909",
     "exception": false,
     "start_time": "2022-10-13T15:55:22.934174",
     "status": "completed"
    },
    "scrolled": true,
    "tags": []
   },
   "outputs": [
    {
     "name": "stdout",
     "output_type": "stream",
     "text": [
      "Model Name:  LinearRegression()\n",
      "Mean Absolute Error (MAE): 4588.927\n",
      "Mean Squared Error (MSE): 49792119.191\n",
      "Root Mean Squared Error (RMSE): 7056.353\n",
      "R2_score: 0.903254\n",
      "Root Mean Squared Log Error (RMSLE): 8.862\n",
      "Mean Absolute Percentage Error (MAPE): 44.19 %\n",
      "Adj R Square:  0.903251\n",
      "------------------------------------------------------------------------------------------------------------\n",
      "Model Name:  DecisionTreeRegressor()\n",
      "Mean Absolute Error (MAE): 2237.771\n",
      "Mean Squared Error (MSE): 26737530.118\n",
      "Root Mean Squared Error (RMSE): 5170.835\n",
      "R2_score: 0.948049\n",
      "Root Mean Squared Log Error (RMSLE): 8.551\n",
      "Mean Absolute Percentage Error (MAPE): 13.78 %\n",
      "Adj R Square:  0.948047\n",
      "------------------------------------------------------------------------------------------------------------\n",
      "Model Name:  KNeighborsRegressor()\n",
      "Mean Absolute Error (MAE): 1953.486\n",
      "Mean Squared Error (MSE): 15732299.663\n",
      "Root Mean Squared Error (RMSE): 3966.396\n",
      "R2_score: 0.969432\n",
      "Root Mean Squared Log Error (RMSLE): 8.286\n",
      "Mean Absolute Percentage Error (MAPE): 11.84 %\n",
      "Adj R Square:  0.969431\n",
      "------------------------------------------------------------------------------------------------------------\n",
      "Model Name:  BaggingRegressor()\n",
      "Mean Absolute Error (MAE): 2031.629\n",
      "Mean Squared Error (MSE): 19034239.972\n",
      "Root Mean Squared Error (RMSE): 4362.825\n",
      "R2_score: 0.963016\n",
      "Root Mean Squared Log Error (RMSLE): 8.381\n",
      "Mean Absolute Percentage Error (MAPE): 12.43 %\n",
      "Adj R Square:  0.963015\n",
      "------------------------------------------------------------------------------------------------------------\n",
      "Model Name:  Ridge()\n",
      "Mean Absolute Error (MAE): 4588.88\n",
      "Mean Squared Error (MSE): 49792064.815\n",
      "Root Mean Squared Error (RMSE): 7056.349\n",
      "R2_score: 0.903254\n",
      "Root Mean Squared Log Error (RMSLE): 8.862\n",
      "Mean Absolute Percentage Error (MAPE): 44.19 %\n",
      "Adj R Square:  0.903251\n",
      "------------------------------------------------------------------------------------------------------------\n",
      "Model Name:  Lasso(alpha=0.1)\n",
      "Mean Absolute Error (MAE): 4588.753\n",
      "Mean Squared Error (MSE): 49791977.739\n",
      "Root Mean Squared Error (RMSE): 7056.343\n",
      "R2_score: 0.903254\n",
      "Root Mean Squared Log Error (RMSLE): 8.862\n",
      "Mean Absolute Percentage Error (MAPE): 44.19 %\n",
      "Adj R Square:  0.903251\n",
      "------------------------------------------------------------------------------------------------------------\n"
     ]
    }
   ],
   "source": [
    "# Build the Regression / Regressor models\n",
    "from sklearn.linear_model import LinearRegression\n",
    "from sklearn.linear_model import Ridge\n",
    "from sklearn import linear_model\n",
    "from sklearn.tree import DecisionTreeRegressor\n",
    "from sklearn.svm import SVR\n",
    "from sklearn.neighbors import KNeighborsRegressor\n",
    "from sklearn.ensemble import BaggingRegressor\n",
    "\n",
    "# Create objects of Regression / Regressor models with default hyper-parameters\n",
    "\n",
    "modelmlg = LinearRegression()\n",
    "modeldcr = DecisionTreeRegressor()\n",
    "modelKNN = KNeighborsRegressor(n_neighbors=5)\n",
    "modelbag = BaggingRegressor()\n",
    "modelRE=Ridge()\n",
    "modelLO=linear_model.Lasso(alpha=0.1)\n",
    "\n",
    "# Evalution matrix for all the algorithms\n",
    "\n",
    "MM = [modelmlg, modeldcr, modelKNN, modelbag, modelRE, modelLO]\n",
    "\n",
    "for models in MM:\n",
    "    \n",
    "    # Fit the model with train data\n",
    "    \n",
    "    models.fit(x_train, y_train)\n",
    "    \n",
    "    # Predict the model with test data\n",
    "\n",
    "    y_pred = models.predict(x_test)\n",
    "    \n",
    "    # Print the model name\n",
    "    \n",
    "    print('Model Name: ', models)\n",
    "    \n",
    "    # Evaluation metrics for Regression analysis\n",
    "\n",
    "    from sklearn import metrics\n",
    "\n",
    "    print('Mean Absolute Error (MAE):', round(metrics.mean_absolute_error(y_test, y_pred),3))  \n",
    "    print('Mean Squared Error (MSE):', round(metrics.mean_squared_error(y_test, y_pred),3))  \n",
    "    print('Root Mean Squared Error (RMSE):', round(np.sqrt(metrics.mean_squared_error(y_test, y_pred)),3))\n",
    "    print('R2_score:', round(metrics.r2_score(y_test, y_pred),6))\n",
    "    print('Root Mean Squared Log Error (RMSLE):', round(np.log(np.sqrt(metrics.mean_squared_error(y_test, y_pred))),3))\n",
    "    \n",
    "    # Define the function to calculate the MAPE - Mean Absolute Percentage Error\n",
    "\n",
    "    def MAPE (y_test, y_pred):\n",
    "        y_test, y_pred = np.array(y_test), np.array(y_pred)\n",
    "        return np.mean(np.abs((y_test - y_pred) / y_test)) * 100\n",
    "    \n",
    "    # Evaluation of MAPE \n",
    "\n",
    "    result = MAPE(y_test, y_pred)\n",
    "    print('Mean Absolute Percentage Error (MAPE):', round(result, 2), '%')\n",
    "    \n",
    "    # Calculate Adjusted R squared values \n",
    "\n",
    "    r_squared = round(metrics.r2_score(y_test, y_pred),6)\n",
    "    adjusted_r_squared = round(1 - (1-r_squared)*(len(y)-1)/(len(y)-x.shape[1]-1),6)\n",
    "    print('Adj R Square: ', adjusted_r_squared)\n",
    "    print('------------------------------------------------------------------------------------------------------------')\n",
    "    #-------------------------------------------------------------------------------------------\n",
    "    new_row = {'Model Name' : models,\n",
    "               'Mean_Absolute_Error_MAE' : metrics.mean_absolute_error(y_test, y_pred),\n",
    "               'Adj_R_Square' : adjusted_r_squared,\n",
    "               'Root_Mean_Squared_Error_RMSE' : np.sqrt(metrics.mean_squared_error(y_test, y_pred)),\n",
    "               'Mean_Absolute_Percentage_Error_MAPE' : result,\n",
    "               'Mean_Squared_Error_MSE' : metrics.mean_squared_error(y_test, y_pred),\n",
    "               'Root_Mean_Squared_Log_Error_RMSLE': np.log(np.sqrt(metrics.mean_squared_error(y_test, y_pred))),\n",
    "               'R2_score' : metrics.r2_score(y_test, y_pred)}\n",
    "    #------------------------------------------------------------"
   ]
  },
  {
   "cell_type": "markdown",
   "id": "31e6b071",
   "metadata": {
    "papermill": {
     "duration": 0.022207,
     "end_time": "2022-10-13T15:58:10.999033",
     "exception": false,
     "start_time": "2022-10-13T15:58:10.976826",
     "status": "completed"
    },
    "tags": []
   },
   "source": [
    "<p> From the Above Results, The Top 3 Models by comparing Errors , Adj_R_Square and R2_Score values are<br>\n",
    "    \n",
    "1. <b>Bagging Regressor</b>\n",
    "2. <b>KNN Regressor</b>\n",
    "3. <b>DecisionTreeRegressor</b><br>\n",
    "\n",
    "<p>Training the Data with <b>Bagging Regressor</b></p>\n",
    "</p>"
   ]
  },
  {
   "cell_type": "code",
   "execution_count": 16,
   "id": "dbcd4e20",
   "metadata": {
    "papermill": {
     "duration": 47.795568,
     "end_time": "2022-10-13T15:58:58.817756",
     "exception": false,
     "start_time": "2022-10-13T15:58:11.022188",
     "status": "completed"
    },
    "tags": []
   },
   "outputs": [],
   "source": [
    "#Trainig the model with\n",
    "modelbag.fit(x_train, y_train)\n",
    "    \n",
    "# Predict the model with test data\n",
    "\n",
    "y_pred = modelbag.predict(x_test)"
   ]
  },
  {
   "cell_type": "code",
   "execution_count": 17,
   "id": "0b2ca9ac",
   "metadata": {
    "papermill": {
     "duration": 0.078602,
     "end_time": "2022-10-13T15:58:58.920142",
     "exception": false,
     "start_time": "2022-10-13T15:58:58.841540",
     "status": "completed"
    },
    "tags": []
   },
   "outputs": [],
   "source": [
    "out=pd.DataFrame({'Price_actual':y_test,'Price_pred':y_pred})\n",
    "result=df_bk.merge(out,left_index=True,right_index=True)"
   ]
  },
  {
   "cell_type": "code",
   "execution_count": 18,
   "id": "6ba32171",
   "metadata": {
    "papermill": {
     "duration": 0.054964,
     "end_time": "2022-10-13T15:58:58.998457",
     "exception": false,
     "start_time": "2022-10-13T15:58:58.943493",
     "status": "completed"
    },
    "tags": []
   },
   "outputs": [
    {
     "data": {
      "text/html": [
       "<div>\n",
       "<style scoped>\n",
       "    .dataframe tbody tr th:only-of-type {\n",
       "        vertical-align: middle;\n",
       "    }\n",
       "\n",
       "    .dataframe tbody tr th {\n",
       "        vertical-align: top;\n",
       "    }\n",
       "\n",
       "    .dataframe thead th {\n",
       "        text-align: right;\n",
       "    }\n",
       "</style>\n",
       "<table border=\"1\" class=\"dataframe\">\n",
       "  <thead>\n",
       "    <tr style=\"text-align: right;\">\n",
       "      <th></th>\n",
       "      <th>airline</th>\n",
       "      <th>source_city</th>\n",
       "      <th>departure_time</th>\n",
       "      <th>stops</th>\n",
       "      <th>arrival_time</th>\n",
       "      <th>destination_city</th>\n",
       "      <th>class</th>\n",
       "      <th>duration</th>\n",
       "      <th>days_left</th>\n",
       "      <th>price</th>\n",
       "      <th>Price_actual</th>\n",
       "      <th>Price_pred</th>\n",
       "    </tr>\n",
       "  </thead>\n",
       "  <tbody>\n",
       "    <tr>\n",
       "      <th>244968</th>\n",
       "      <td>Air_India</td>\n",
       "      <td>Bangalore</td>\n",
       "      <td>Early_Morning</td>\n",
       "      <td>one</td>\n",
       "      <td>Early_Morning</td>\n",
       "      <td>Delhi</td>\n",
       "      <td>Business</td>\n",
       "      <td>21.92</td>\n",
       "      <td>4</td>\n",
       "      <td>36610</td>\n",
       "      <td>36610</td>\n",
       "      <td>37904.7</td>\n",
       "    </tr>\n",
       "    <tr>\n",
       "      <th>78973</th>\n",
       "      <td>Air_India</td>\n",
       "      <td>Mumbai</td>\n",
       "      <td>Morning</td>\n",
       "      <td>one</td>\n",
       "      <td>Night</td>\n",
       "      <td>Chennai</td>\n",
       "      <td>Economy</td>\n",
       "      <td>13.58</td>\n",
       "      <td>14</td>\n",
       "      <td>9201</td>\n",
       "      <td>9201</td>\n",
       "      <td>9201.0</td>\n",
       "    </tr>\n",
       "    <tr>\n",
       "      <th>59362</th>\n",
       "      <td>Indigo</td>\n",
       "      <td>Mumbai</td>\n",
       "      <td>Late_Night</td>\n",
       "      <td>zero</td>\n",
       "      <td>Late_Night</td>\n",
       "      <td>Bangalore</td>\n",
       "      <td>Economy</td>\n",
       "      <td>1.58</td>\n",
       "      <td>38</td>\n",
       "      <td>2124</td>\n",
       "      <td>2124</td>\n",
       "      <td>2124.0</td>\n",
       "    </tr>\n",
       "    <tr>\n",
       "      <th>258650</th>\n",
       "      <td>Vistara</td>\n",
       "      <td>Bangalore</td>\n",
       "      <td>Early_Morning</td>\n",
       "      <td>one</td>\n",
       "      <td>Evening</td>\n",
       "      <td>Hyderabad</td>\n",
       "      <td>Business</td>\n",
       "      <td>11.92</td>\n",
       "      <td>44</td>\n",
       "      <td>56588</td>\n",
       "      <td>56588</td>\n",
       "      <td>49146.8</td>\n",
       "    </tr>\n",
       "    <tr>\n",
       "      <th>67223</th>\n",
       "      <td>GO_FIRST</td>\n",
       "      <td>Mumbai</td>\n",
       "      <td>Afternoon</td>\n",
       "      <td>one</td>\n",
       "      <td>Night</td>\n",
       "      <td>Kolkata</td>\n",
       "      <td>Economy</td>\n",
       "      <td>9.83</td>\n",
       "      <td>33</td>\n",
       "      <td>4961</td>\n",
       "      <td>4961</td>\n",
       "      <td>5657.8</td>\n",
       "    </tr>\n",
       "    <tr>\n",
       "      <th>259937</th>\n",
       "      <td>Vistara</td>\n",
       "      <td>Bangalore</td>\n",
       "      <td>Evening</td>\n",
       "      <td>one</td>\n",
       "      <td>Evening</td>\n",
       "      <td>Chennai</td>\n",
       "      <td>Business</td>\n",
       "      <td>25.50</td>\n",
       "      <td>24</td>\n",
       "      <td>44280</td>\n",
       "      <td>44280</td>\n",
       "      <td>45402.2</td>\n",
       "    </tr>\n",
       "    <tr>\n",
       "      <th>225273</th>\n",
       "      <td>Vistara</td>\n",
       "      <td>Mumbai</td>\n",
       "      <td>Morning</td>\n",
       "      <td>zero</td>\n",
       "      <td>Afternoon</td>\n",
       "      <td>Delhi</td>\n",
       "      <td>Business</td>\n",
       "      <td>2.17</td>\n",
       "      <td>5</td>\n",
       "      <td>34460</td>\n",
       "      <td>34460</td>\n",
       "      <td>42344.8</td>\n",
       "    </tr>\n",
       "    <tr>\n",
       "      <th>157125</th>\n",
       "      <td>Air_India</td>\n",
       "      <td>Hyderabad</td>\n",
       "      <td>Night</td>\n",
       "      <td>zero</td>\n",
       "      <td>Night</td>\n",
       "      <td>Delhi</td>\n",
       "      <td>Economy</td>\n",
       "      <td>2.17</td>\n",
       "      <td>39</td>\n",
       "      <td>2276</td>\n",
       "      <td>2276</td>\n",
       "      <td>2318.0</td>\n",
       "    </tr>\n",
       "    <tr>\n",
       "      <th>13042</th>\n",
       "      <td>AirAsia</td>\n",
       "      <td>Delhi</td>\n",
       "      <td>Afternoon</td>\n",
       "      <td>one</td>\n",
       "      <td>Night</td>\n",
       "      <td>Bangalore</td>\n",
       "      <td>Economy</td>\n",
       "      <td>5.42</td>\n",
       "      <td>17</td>\n",
       "      <td>4917</td>\n",
       "      <td>4917</td>\n",
       "      <td>4927.3</td>\n",
       "    </tr>\n",
       "    <tr>\n",
       "      <th>206613</th>\n",
       "      <td>Indigo</td>\n",
       "      <td>Chennai</td>\n",
       "      <td>Evening</td>\n",
       "      <td>zero</td>\n",
       "      <td>Evening</td>\n",
       "      <td>Hyderabad</td>\n",
       "      <td>Economy</td>\n",
       "      <td>1.33</td>\n",
       "      <td>49</td>\n",
       "      <td>1551</td>\n",
       "      <td>1551</td>\n",
       "      <td>1484.1</td>\n",
       "    </tr>\n",
       "  </tbody>\n",
       "</table>\n",
       "</div>"
      ],
      "text/plain": [
       "          airline source_city departure_time stops   arrival_time  \\\n",
       "244968  Air_India   Bangalore  Early_Morning   one  Early_Morning   \n",
       "78973   Air_India      Mumbai        Morning   one          Night   \n",
       "59362      Indigo      Mumbai     Late_Night  zero     Late_Night   \n",
       "258650    Vistara   Bangalore  Early_Morning   one        Evening   \n",
       "67223    GO_FIRST      Mumbai      Afternoon   one          Night   \n",
       "259937    Vistara   Bangalore        Evening   one        Evening   \n",
       "225273    Vistara      Mumbai        Morning  zero      Afternoon   \n",
       "157125  Air_India   Hyderabad          Night  zero          Night   \n",
       "13042     AirAsia       Delhi      Afternoon   one          Night   \n",
       "206613     Indigo     Chennai        Evening  zero        Evening   \n",
       "\n",
       "       destination_city     class  duration  days_left  price  Price_actual  \\\n",
       "244968            Delhi  Business     21.92          4  36610         36610   \n",
       "78973           Chennai   Economy     13.58         14   9201          9201   \n",
       "59362         Bangalore   Economy      1.58         38   2124          2124   \n",
       "258650        Hyderabad  Business     11.92         44  56588         56588   \n",
       "67223           Kolkata   Economy      9.83         33   4961          4961   \n",
       "259937          Chennai  Business     25.50         24  44280         44280   \n",
       "225273            Delhi  Business      2.17          5  34460         34460   \n",
       "157125            Delhi   Economy      2.17         39   2276          2276   \n",
       "13042         Bangalore   Economy      5.42         17   4917          4917   \n",
       "206613        Hyderabad   Economy      1.33         49   1551          1551   \n",
       "\n",
       "        Price_pred  \n",
       "244968     37904.7  \n",
       "78973       9201.0  \n",
       "59362       2124.0  \n",
       "258650     49146.8  \n",
       "67223       5657.8  \n",
       "259937     45402.2  \n",
       "225273     42344.8  \n",
       "157125      2318.0  \n",
       "13042       4927.3  \n",
       "206613      1484.1  "
      ]
     },
     "execution_count": 18,
     "metadata": {},
     "output_type": "execute_result"
    }
   ],
   "source": [
    "result.sample(10)"
   ]
  },
  {
   "cell_type": "code",
   "execution_count": 19,
   "id": "76bd3065-2926-421a-b2a6-def311f9143d",
   "metadata": {},
   "outputs": [],
   "source": [
    "import pickle\n",
    "\n",
    "# Save the model to disk\n",
    "with open('model.pkl', 'wb') as f:\n",
    "    pickle.dump(modelbag, f)\n",
    "\n",
    "with open('preprocessor.pkl', 'wb') as f:\n",
    "    pickle.dump(mmscaler, f)\n"
   ]
  },
  {
   "cell_type": "code",
   "execution_count": null,
   "id": "11cf3eaf-34be-4eef-a5d9-f654207705a0",
   "metadata": {},
   "outputs": [],
   "source": []
  }
 ],
 "metadata": {
  "kernelspec": {
   "display_name": "Python 3 (ipykernel)",
   "language": "python",
   "name": "python3"
  },
  "language_info": {
   "codemirror_mode": {
    "name": "ipython",
    "version": 3
   },
   "file_extension": ".py",
   "mimetype": "text/x-python",
   "name": "python",
   "nbconvert_exporter": "python",
   "pygments_lexer": "ipython3",
   "version": "3.12.1"
  },
  "papermill": {
   "default_parameters": {},
   "duration": 290.120865,
   "end_time": "2022-10-13T15:59:20.341050",
   "environment_variables": {},
   "exception": null,
   "input_path": "__notebook__.ipynb",
   "output_path": "__notebook__.ipynb",
   "parameters": {},
   "start_time": "2022-10-13T15:54:30.220185",
   "version": "2.3.4"
  }
 },
 "nbformat": 4,
 "nbformat_minor": 5
}
